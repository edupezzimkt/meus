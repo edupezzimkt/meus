{
 "cells": [
  {
   "cell_type": "markdown",
   "metadata": {},
   "source": [
    "### pip install PyPDF2 gtts pydub\n"
   ]
  },
  {
   "cell_type": "markdown",
   "metadata": {},
   "source": [
    "Texto para audio"
   ]
  },
  {
   "cell_type": "code",
   "execution_count": 1,
   "metadata": {},
   "outputs": [
    {
     "name": "stdout",
     "output_type": "stream",
     "text": [
      "Áudio salvo como output_audio.mp3\n"
     ]
    }
   ],
   "source": [
    "\n",
    "from gtts import gTTS\n",
    "from pydub import AudioSegment\n",
    "import os\n",
    "\n",
    "# Definir o texto a ser convertido em áudio\n",
    "text = \"\"\"\n",
    "eu consigo ler o que está nessa linha porque o eduardo é féra.\n",
    "\"\"\"\n",
    "\n",
    "# Definir a linguagem (por exemplo, 'pt' para português, 'en' para inglês)\n",
    "language = 'pt'\n",
    "\n",
    "# Criar o objeto gTTS\n",
    "speech = gTTS(text=text, lang=language, slow=False)\n",
    "\n",
    "# Salvar o áudio em um arquivo temporário\n",
    "temp_audio_file = \"temp_audio.mp3\"\n",
    "speech.save(temp_audio_file)\n",
    "\n",
    "# Carregar o áudio com pydub\n",
    "audio = AudioSegment.from_file(temp_audio_file)\n",
    "\n",
    "# Aumentar a velocidade do áudio (1.3x mais rápido, por exemplo)\n",
    "faster_audio = audio.speedup(playback_speed=1.3)\n",
    "\n",
    "# Salvar o áudio acelerado em um arquivo\n",
    "output_audio_file = \"output_audio.mp3\"\n",
    "faster_audio.export(output_audio_file, format=\"mp3\")\n",
    "\n",
    "print(f\"Áudio salvo como {output_audio_file}\")\n",
    "\n",
    "# Opcional: Reproduzir o áudio (funciona em sistemas que têm um player de áudio padrão configurado)\n",
    "os.system(f\"start {output_audio_file}\")  # Use \"open\" em vez de \"start\" no macOS, e \"xdg-open\" no Linux\n",
    "\n",
    "# Remover o arquivo temporário\n",
    "os.remove(temp_audio_file)\n"
   ]
  },
  {
   "cell_type": "markdown",
   "metadata": {},
   "source": [
    "## documento pdf para audio"
   ]
  },
  {
   "cell_type": "code",
   "execution_count": 1,
   "metadata": {},
   "outputs": [
    {
     "name": "stdout",
     "output_type": "stream",
     "text": [
      "Áudio salvo como output_audio.mp3\n"
     ]
    }
   ],
   "source": [
    "import PyPDF2\n",
    "from gtts import gTTS\n",
    "from pydub import AudioSegment\n",
    "import os\n",
    "\n",
    "# Função para extrair texto de um arquivo PDF\n",
    "def extract_text_from_pdf(pdf_path):\n",
    "    text = \"\"\n",
    "    with open(pdf_path, \"rb\") as file:\n",
    "        reader = PyPDF2.PdfReader(file)\n",
    "        num_pages = len(reader.pages)\n",
    "        for page_num in range(num_pages):\n",
    "            page = reader.pages[page_num]\n",
    "            text += page.extract_text()\n",
    "    return text\n",
    "\n",
    "# Caminho para o arquivo PDF\n",
    "pdf_path = \"edupezzi.pdf\"\n",
    "\n",
    "# Extrair texto do PDF\n",
    "text = extract_text_from_pdf(pdf_path)\n",
    "\n",
    "# Definir a linguagem (por exemplo, 'pt' para português, 'en' para inglês)\n",
    "language = 'pt'\n",
    "\n",
    "# Criar o objeto gTTS\n",
    "speech = gTTS(text=text, lang=language, slow=False)\n",
    "\n",
    "# Salvar o áudio em um arquivo temporário\n",
    "temp_audio_file = \"temp_audio.mp3\"\n",
    "speech.save(temp_audio_file)\n",
    "\n",
    "# Carregar o áudio com pydub\n",
    "audio = AudioSegment.from_file(temp_audio_file)\n",
    "\n",
    "# Aumentar a velocidade do áudio (1.3x mais rápido, por exemplo)\n",
    "faster_audio = audio.speedup(playback_speed=1.3)\n",
    "\n",
    "# Salvar o áudio acelerado em um arquivo\n",
    "output_audio_file = \"output_audio.mp3\"\n",
    "faster_audio.export(output_audio_file, format=\"mp3\")\n",
    "\n",
    "print(f\"Áudio salvo como {output_audio_file}\")\n",
    "\n",
    "# Opcional: Reproduzir o áudio (funciona em sistemas que têm um player de áudio padrão configurado)\n",
    "os.system(f\"start {output_audio_file}\")  # Use \"open\" em vez de \"start\" no macOS, e \"xdg-open\" no Linux\n",
    "\n",
    "# Remover o arquivo temporário\n",
    "os.remove(temp_audio_file)\n"
   ]
  }
 ],
 "metadata": {
  "kernelspec": {
   "display_name": "Python 3",
   "language": "python",
   "name": "python3"
  },
  "language_info": {
   "codemirror_mode": {
    "name": "ipython",
    "version": 3
   },
   "file_extension": ".py",
   "mimetype": "text/x-python",
   "name": "python",
   "nbconvert_exporter": "python",
   "pygments_lexer": "ipython3",
   "version": "3.12.4"
  }
 },
 "nbformat": 4,
 "nbformat_minor": 2
}
