{
 "cells": [
  {
   "cell_type": "code",
   "execution_count": 1,
   "metadata": {},
   "outputs": [
    {
     "name": "stdout",
     "output_type": "stream",
     "text": [
      "Recording...\n",
      "Finished recording.\n",
      "Detected language: pt\n",
      "em texto para 5 segundos.\n",
      "Transcription saved to transcricao.docx\n"
     ]
    }
   ],
   "source": [
    "import whisper\n",
    "import pyaudio\n",
    "import wave\n",
    "from docx import Document\n",
    "\n",
    "# Carregar o modelo Whisper\n",
    "model = whisper.load_model(\"base\")\n",
    "\n",
    "# Configurações de áudio\n",
    "FORMAT = pyaudio.paInt16\n",
    "CHANNELS = 1\n",
    "RATE = 16000\n",
    "CHUNK = 1024\n",
    "RECORD_SECONDS = 5  # Duração da gravação em segundos\n",
    "OUTPUT_FILE = \"output.wav\"\n",
    "\n",
    "# Inicializar PyAudio\n",
    "audio = pyaudio.PyAudio()\n",
    "\n",
    "# Iniciar gravação\n",
    "stream = audio.open(format=FORMAT, channels=CHANNELS,\n",
    "                    rate=RATE, input=True,\n",
    "                    frames_per_buffer=CHUNK)\n",
    "\n",
    "print(\"Recording...\")\n",
    "frames = []\n",
    "\n",
    "for _ in range(0, int(RATE / CHUNK * RECORD_SECONDS)):\n",
    "    data = stream.read(CHUNK)\n",
    "    frames.append(data)\n",
    "\n",
    "print(\"Finished recording.\")\n",
    "\n",
    "# Parar e fechar a stream\n",
    "stream.stop_stream()\n",
    "stream.close()\n",
    "audio.terminate()\n",
    "\n",
    "# Salvar a gravação em um arquivo WAV\n",
    "with wave.open(OUTPUT_FILE, 'wb') as wf:\n",
    "    wf.setnchannels(CHANNELS)\n",
    "    wf.setsampwidth(audio.get_sample_size(FORMAT))\n",
    "    wf.setframerate(RATE)\n",
    "    wf.writeframes(b''.join(frames))\n",
    "\n",
    "# Carregar o áudio e transcrever\n",
    "audio = whisper.load_audio(OUTPUT_FILE)\n",
    "audio = whisper.pad_or_trim(audio)\n",
    "mel = whisper.log_mel_spectrogram(audio).to(model.device)\n",
    "\n",
    "# Detectar o idioma falado\n",
    "_, probs = model.detect_language(mel)\n",
    "print(f\"Detected language: {max(probs, key=probs.get)}\")\n",
    "\n",
    "# Decodificar o áudio\n",
    "options = whisper.DecodingOptions()\n",
    "result = whisper.decode(model, mel, options)\n",
    "\n",
    "# Imprimir o texto reconhecido\n",
    "print(result.text)\n",
    "\n",
    "# Criar um documento Word e salvar o texto\n",
    "document = Document()\n",
    "document.add_heading('Transcrição de Áudio', 0)\n",
    "document.add_paragraph(result.text)\n",
    "document.save(\"transcricao.docx\")\n",
    "\n",
    "print(\"Transcription saved to transcricao.docx\")\n"
   ]
  }
 ],
 "metadata": {
  "kernelspec": {
   "display_name": "Python 3",
   "language": "python",
   "name": "python3"
  },
  "language_info": {
   "codemirror_mode": {
    "name": "ipython",
    "version": 3
   },
   "file_extension": ".py",
   "mimetype": "text/x-python",
   "name": "python",
   "nbconvert_exporter": "python",
   "pygments_lexer": "ipython3",
   "version": "3.12.4"
  }
 },
 "nbformat": 4,
 "nbformat_minor": 2
}
